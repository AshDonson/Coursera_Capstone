{
 "cells": [
  {
   "cell_type": "markdown",
   "metadata": {},
   "source": [
    "# Coursera Capstone Project - Filling Barons Quay #"
   ]
  },
  {
   "cell_type": "markdown",
   "metadata": {},
   "source": [
    "### The data ###\n",
    "\n",
    "Wikipedia conveniently [lists hundreds of English towns](https://en.wikipedia.org/wiki/List_of_towns_in_England) that can be compared to Northwich. Each town links to its own Wikipedia article, wherein population statistics are held within the key facts sidebar and location datapoints are tagged <span class=\"geo\"> in the page source.\n",
    "\n",
    "Cycling through the list, it's possible to extract population, latitude and longitude values to find the towns most similar in population to Northwich and store them in a Pandas dataframe. With the location data, we can make API calls to Foursquare to discover businesses with a significant retail presence in multiple areas. This will generate a new dataframe with company names.\n",
    "\n",
    "Unfortunately there is some risk in using Wikipedia as the source of population statistics; it's likely that across the hundreds of separate articles, the population statistic in each one is held to a different standard. For example, one article might list the population of the town proper, where another considers the whole metropolitan area. However, I intend to work with large margins in order to consider as many towns as is reasonable, perhaps considering areas with a comparative population of as little as 50% and those with a population of over 200% that of Northwich. With such a broad scope, problematic effects of variations in data standards will hopefully be minimised.\n",
    "\n",
    "Given the goal of developing the town, it's appropriate to use much higher upper population bounds than lower bounds. In order to improve Northwich, Cheshire West and Chester Council ought to be trying to pull potential shoppers from larger towns and to do that they need similar attractions.\n",
    "\n",
    "With a list of potential tenants for Barons Quay and the shopping centre's latitude and longitude values, Foursquare API calls can again be used to find the distance of the nearest location for each business. The final result will be a comprehensive dataframe detailing business names, their popularity in other towns, and how far away their nearest presence is. Using machine learning, this can then be evaluated to discover which business are most popular and have no location close to Barons Quay."
   ]
  },
  {
   "cell_type": "code",
   "execution_count": null,
   "metadata": {},
   "outputs": [],
   "source": []
  }
 ],
 "metadata": {
  "kernelspec": {
   "display_name": "Python 3",
   "language": "python",
   "name": "python3"
  },
  "language_info": {
   "codemirror_mode": {
    "name": "ipython",
    "version": 3
   },
   "file_extension": ".py",
   "mimetype": "text/x-python",
   "name": "python",
   "nbconvert_exporter": "python",
   "pygments_lexer": "ipython3",
   "version": "3.6.8"
  }
 },
 "nbformat": 4,
 "nbformat_minor": 2
}
