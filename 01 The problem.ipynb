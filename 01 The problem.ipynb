{
 "cells": [
  {
   "cell_type": "markdown",
   "metadata": {},
   "source": [
    "# Coursera Capstone Project - Filling Barons Quay #"
   ]
  },
  {
   "cell_type": "markdown",
   "metadata": {},
   "source": [
    "### The problem ###\n",
    "\n",
    "Northwich is a town with a population of ~75,000 in Cheshire, England. Cheshire West and Chester Council (CWaCC) recently invested £80m to develop the Barons Quay shopping centre with brand-new, glass-fronted retail units in order to inject life into the sleepy town centre - encouraging locals to shop closer to home and those further afield to travel to this new hub.\n",
    "\n",
    "Unfortunately, as of May 2019, 40% of the retail space remains unused. Walking through the area it's easy to see the vision the council had, but with several units bare and few prospective tenants, the development isn't living up to its potential.\n",
    "\n",
    "With reported loan interest payments of £40,000 per week, CWaCC should have great interest in finding prospective tenants for Barons Quay; the sooner the available units are filled and the shopping centre is alive with business, the sooner the CWaCC see a positive return on their investment and the growth they want for this town.\n",
    "\n",
    "To see where Northwich can improve as a shopping hub, we need to look outwards towards other towns in England. By analysing which businesses operate in similar towns but don't have a presence in Northwich, CWaCC will better understand what the town lacks and who they could approach to fill retail units."
   ]
  },
  {
   "cell_type": "markdown",
   "metadata": {},
   "source": [
    " "
   ]
  },
  {
   "cell_type": "code",
   "execution_count": null,
   "metadata": {},
   "outputs": [],
   "source": []
  }
 ],
 "metadata": {
  "kernelspec": {
   "display_name": "Python 3",
   "language": "python",
   "name": "python3"
  },
  "language_info": {
   "codemirror_mode": {
    "name": "ipython",
    "version": 3
   },
   "file_extension": ".py",
   "mimetype": "text/x-python",
   "name": "python",
   "nbconvert_exporter": "python",
   "pygments_lexer": "ipython3",
   "version": "3.6.8"
  }
 },
 "nbformat": 4,
 "nbformat_minor": 2
}
